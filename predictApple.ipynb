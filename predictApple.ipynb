{
 "cells": [
  {
   "cell_type": "code",
   "execution_count": 114,
   "metadata": {},
   "outputs": [],
   "source": [
    "import pandas as pd\n",
    "import numpy as np\n",
    "import matplotlib.pyplot as plt\n",
    "import pystan\n",
    "from fbprophet import Prophet"
   ]
  },
  {
   "cell_type": "markdown",
   "metadata": {},
   "source": [
    "Must run have pystan 2.18.0.0 installed as 2.19.0.0 does not work with the compiler.\n",
    "\n",
    "pip install pystan==2.18.0.0 fbprophet"
   ]
  },
  {
   "cell_type": "code",
   "execution_count": 29,
   "metadata": {},
   "outputs": [
    {
     "name": "stdout",
     "output_type": "stream",
     "text": [
      "              date   open   high    low  close    volume Name\n",
      "0       2013-02-08  15.07  15.12  14.63  14.75   8407500  AAL\n",
      "1       2013-02-11  14.89  15.01  14.26  14.46   8882000  AAL\n",
      "2       2013-02-12  14.45  14.51  14.10  14.27   8126000  AAL\n",
      "3       2013-02-13  14.30  14.94  14.25  14.66  10259500  AAL\n",
      "4       2013-02-14  14.94  14.96  13.16  13.99  31879900  AAL\n",
      "...            ...    ...    ...    ...    ...       ...  ...\n",
      "619035  2018-02-01  76.84  78.27  76.69  77.82   2982259  ZTS\n",
      "619036  2018-02-02  77.53  78.12  76.73  76.78   2595187  ZTS\n",
      "619037  2018-02-05  76.64  76.92  73.18  73.83   2962031  ZTS\n",
      "619038  2018-02-06  72.74  74.56  72.13  73.27   4924323  ZTS\n",
      "619039  2018-02-07  72.70  75.00  72.69  73.86   4534912  ZTS\n",
      "\n",
      "[619040 rows x 7 columns]\n"
     ]
    }
   ],
   "source": [
    "df = pd.read_csv('all_stocks_5yr.csv')\n",
    "print(df)"
   ]
  },
  {
   "cell_type": "code",
   "execution_count": 131,
   "metadata": {},
   "outputs": [
    {
     "name": "stderr",
     "output_type": "stream",
     "text": [
      "<ipython-input-131-c02ad6431dcb>:3: SettingWithCopyWarning: \n",
      "A value is trying to be set on a copy of a slice from a DataFrame.\n",
      "Try using .loc[row_indexer,col_indexer] = value instead\n",
      "\n",
      "See the caveats in the documentation: https://pandas.pydata.org/pandas-docs/stable/user_guide/indexing.html#returning-a-view-versus-a-copy\n",
      "  appleClose[\"date\"] = pd.DatetimeIndex(appleClose[\"date\"])\n"
     ]
    },
    {
     "data": {
      "text/html": [
       "<div>\n",
       "<style scoped>\n",
       "    .dataframe tbody tr th:only-of-type {\n",
       "        vertical-align: middle;\n",
       "    }\n",
       "\n",
       "    .dataframe tbody tr th {\n",
       "        vertical-align: top;\n",
       "    }\n",
       "\n",
       "    .dataframe thead th {\n",
       "        text-align: right;\n",
       "    }\n",
       "</style>\n",
       "<table border=\"1\" class=\"dataframe\">\n",
       "  <thead>\n",
       "    <tr style=\"text-align: right;\">\n",
       "      <th></th>\n",
       "      <th>ds</th>\n",
       "      <th>y</th>\n",
       "    </tr>\n",
       "  </thead>\n",
       "  <tbody>\n",
       "    <tr>\n",
       "      <th>1259</th>\n",
       "      <td>2013-02-08</td>\n",
       "      <td>67.8542</td>\n",
       "    </tr>\n",
       "    <tr>\n",
       "      <th>1260</th>\n",
       "      <td>2013-02-11</td>\n",
       "      <td>68.5614</td>\n",
       "    </tr>\n",
       "    <tr>\n",
       "      <th>1261</th>\n",
       "      <td>2013-02-12</td>\n",
       "      <td>66.8428</td>\n",
       "    </tr>\n",
       "    <tr>\n",
       "      <th>1262</th>\n",
       "      <td>2013-02-13</td>\n",
       "      <td>66.7156</td>\n",
       "    </tr>\n",
       "    <tr>\n",
       "      <th>1263</th>\n",
       "      <td>2013-02-14</td>\n",
       "      <td>66.6556</td>\n",
       "    </tr>\n",
       "  </tbody>\n",
       "</table>\n",
       "</div>"
      ],
      "text/plain": [
       "             ds        y\n",
       "1259 2013-02-08  67.8542\n",
       "1260 2013-02-11  68.5614\n",
       "1261 2013-02-12  66.8428\n",
       "1262 2013-02-13  66.7156\n",
       "1263 2013-02-14  66.6556"
      ]
     },
     "execution_count": 131,
     "metadata": {},
     "output_type": "execute_result"
    }
   ],
   "source": [
    "apple = df.loc[df['Name'] == 'AAPL']\n",
    "appleClose = apple[[\"date\", \"close\"]]\n",
    "appleClose[\"date\"] = pd.DatetimeIndex(appleClose[\"date\"])\n",
    "appleClose.columns = ['ds', 'y']\n",
    "appleClose.head()"
   ]
  },
  {
   "cell_type": "code",
   "execution_count": 169,
   "metadata": {},
   "outputs": [
    {
     "name": "stderr",
     "output_type": "stream",
     "text": [
      "INFO:fbprophet:Disabling daily seasonality. Run prophet with daily_seasonality=True to override this.\n"
     ]
    }
   ],
   "source": [
    "m = Prophet(interval_width=0.95)\n",
    "model = m.fit(appleClose)"
   ]
  },
  {
   "cell_type": "code",
   "execution_count": 170,
   "metadata": {},
   "outputs": [
    {
     "data": {
      "text/html": [
       "<div>\n",
       "<style scoped>\n",
       "    .dataframe tbody tr th:only-of-type {\n",
       "        vertical-align: middle;\n",
       "    }\n",
       "\n",
       "    .dataframe tbody tr th {\n",
       "        vertical-align: top;\n",
       "    }\n",
       "\n",
       "    .dataframe thead th {\n",
       "        text-align: right;\n",
       "    }\n",
       "</style>\n",
       "<table border=\"1\" class=\"dataframe\">\n",
       "  <thead>\n",
       "    <tr style=\"text-align: right;\">\n",
       "      <th></th>\n",
       "      <th>ds</th>\n",
       "      <th>trend</th>\n",
       "      <th>yhat_lower</th>\n",
       "      <th>yhat_upper</th>\n",
       "      <th>trend_lower</th>\n",
       "      <th>trend_upper</th>\n",
       "      <th>additive_terms</th>\n",
       "      <th>additive_terms_lower</th>\n",
       "      <th>additive_terms_upper</th>\n",
       "      <th>weekly</th>\n",
       "      <th>weekly_lower</th>\n",
       "      <th>weekly_upper</th>\n",
       "      <th>yearly</th>\n",
       "      <th>yearly_lower</th>\n",
       "      <th>yearly_upper</th>\n",
       "      <th>multiplicative_terms</th>\n",
       "      <th>multiplicative_terms_lower</th>\n",
       "      <th>multiplicative_terms_upper</th>\n",
       "      <th>yhat</th>\n",
       "    </tr>\n",
       "  </thead>\n",
       "  <tbody>\n",
       "    <tr>\n",
       "      <th>0</th>\n",
       "      <td>2013-02-08</td>\n",
       "      <td>61.841376</td>\n",
       "      <td>50.100224</td>\n",
       "      <td>66.265408</td>\n",
       "      <td>61.841376</td>\n",
       "      <td>61.841376</td>\n",
       "      <td>-3.830770</td>\n",
       "      <td>-3.830770</td>\n",
       "      <td>-3.830770</td>\n",
       "      <td>-1.225618</td>\n",
       "      <td>-1.225618</td>\n",
       "      <td>-1.225618</td>\n",
       "      <td>-2.605153</td>\n",
       "      <td>-2.605153</td>\n",
       "      <td>-2.605153</td>\n",
       "      <td>0.0</td>\n",
       "      <td>0.0</td>\n",
       "      <td>0.0</td>\n",
       "      <td>58.010606</td>\n",
       "    </tr>\n",
       "    <tr>\n",
       "      <th>1</th>\n",
       "      <td>2013-02-11</td>\n",
       "      <td>61.858744</td>\n",
       "      <td>51.196903</td>\n",
       "      <td>66.733421</td>\n",
       "      <td>61.858744</td>\n",
       "      <td>61.858744</td>\n",
       "      <td>-2.376210</td>\n",
       "      <td>-2.376210</td>\n",
       "      <td>-2.376210</td>\n",
       "      <td>-1.096613</td>\n",
       "      <td>-1.096613</td>\n",
       "      <td>-1.096613</td>\n",
       "      <td>-1.279598</td>\n",
       "      <td>-1.279598</td>\n",
       "      <td>-1.279598</td>\n",
       "      <td>0.0</td>\n",
       "      <td>0.0</td>\n",
       "      <td>0.0</td>\n",
       "      <td>59.482534</td>\n",
       "    </tr>\n",
       "    <tr>\n",
       "      <th>2</th>\n",
       "      <td>2013-02-12</td>\n",
       "      <td>61.864534</td>\n",
       "      <td>52.223275</td>\n",
       "      <td>68.693403</td>\n",
       "      <td>61.864534</td>\n",
       "      <td>61.864534</td>\n",
       "      <td>-1.936937</td>\n",
       "      <td>-1.936937</td>\n",
       "      <td>-1.936937</td>\n",
       "      <td>-1.079825</td>\n",
       "      <td>-1.079825</td>\n",
       "      <td>-1.079825</td>\n",
       "      <td>-0.857112</td>\n",
       "      <td>-0.857112</td>\n",
       "      <td>-0.857112</td>\n",
       "      <td>0.0</td>\n",
       "      <td>0.0</td>\n",
       "      <td>0.0</td>\n",
       "      <td>59.927596</td>\n",
       "    </tr>\n",
       "    <tr>\n",
       "      <th>3</th>\n",
       "      <td>2013-02-13</td>\n",
       "      <td>61.870323</td>\n",
       "      <td>52.659523</td>\n",
       "      <td>68.566627</td>\n",
       "      <td>61.870323</td>\n",
       "      <td>61.870323</td>\n",
       "      <td>-1.607716</td>\n",
       "      <td>-1.607716</td>\n",
       "      <td>-1.607716</td>\n",
       "      <td>-1.153733</td>\n",
       "      <td>-1.153733</td>\n",
       "      <td>-1.153733</td>\n",
       "      <td>-0.453983</td>\n",
       "      <td>-0.453983</td>\n",
       "      <td>-0.453983</td>\n",
       "      <td>0.0</td>\n",
       "      <td>0.0</td>\n",
       "      <td>0.0</td>\n",
       "      <td>60.262607</td>\n",
       "    </tr>\n",
       "    <tr>\n",
       "      <th>4</th>\n",
       "      <td>2013-02-14</td>\n",
       "      <td>61.876112</td>\n",
       "      <td>52.718456</td>\n",
       "      <td>68.920110</td>\n",
       "      <td>61.876112</td>\n",
       "      <td>61.876112</td>\n",
       "      <td>-1.273387</td>\n",
       "      <td>-1.273387</td>\n",
       "      <td>-1.273387</td>\n",
       "      <td>-1.198044</td>\n",
       "      <td>-1.198044</td>\n",
       "      <td>-1.198044</td>\n",
       "      <td>-0.075343</td>\n",
       "      <td>-0.075343</td>\n",
       "      <td>-0.075343</td>\n",
       "      <td>0.0</td>\n",
       "      <td>0.0</td>\n",
       "      <td>0.0</td>\n",
       "      <td>60.602725</td>\n",
       "    </tr>\n",
       "  </tbody>\n",
       "</table>\n",
       "</div>"
      ],
      "text/plain": [
       "          ds      trend  yhat_lower  yhat_upper  trend_lower  trend_upper  \\\n",
       "0 2013-02-08  61.841376   50.100224   66.265408    61.841376    61.841376   \n",
       "1 2013-02-11  61.858744   51.196903   66.733421    61.858744    61.858744   \n",
       "2 2013-02-12  61.864534   52.223275   68.693403    61.864534    61.864534   \n",
       "3 2013-02-13  61.870323   52.659523   68.566627    61.870323    61.870323   \n",
       "4 2013-02-14  61.876112   52.718456   68.920110    61.876112    61.876112   \n",
       "\n",
       "   additive_terms  additive_terms_lower  additive_terms_upper    weekly  \\\n",
       "0       -3.830770             -3.830770             -3.830770 -1.225618   \n",
       "1       -2.376210             -2.376210             -2.376210 -1.096613   \n",
       "2       -1.936937             -1.936937             -1.936937 -1.079825   \n",
       "3       -1.607716             -1.607716             -1.607716 -1.153733   \n",
       "4       -1.273387             -1.273387             -1.273387 -1.198044   \n",
       "\n",
       "   weekly_lower  weekly_upper    yearly  yearly_lower  yearly_upper  \\\n",
       "0     -1.225618     -1.225618 -2.605153     -2.605153     -2.605153   \n",
       "1     -1.096613     -1.096613 -1.279598     -1.279598     -1.279598   \n",
       "2     -1.079825     -1.079825 -0.857112     -0.857112     -0.857112   \n",
       "3     -1.153733     -1.153733 -0.453983     -0.453983     -0.453983   \n",
       "4     -1.198044     -1.198044 -0.075343     -0.075343     -0.075343   \n",
       "\n",
       "   multiplicative_terms  multiplicative_terms_lower  \\\n",
       "0                   0.0                         0.0   \n",
       "1                   0.0                         0.0   \n",
       "2                   0.0                         0.0   \n",
       "3                   0.0                         0.0   \n",
       "4                   0.0                         0.0   \n",
       "\n",
       "   multiplicative_terms_upper       yhat  \n",
       "0                         0.0  58.010606  \n",
       "1                         0.0  59.482534  \n",
       "2                         0.0  59.927596  \n",
       "3                         0.0  60.262607  \n",
       "4                         0.0  60.602725  "
      ]
     },
     "execution_count": 170,
     "metadata": {},
     "output_type": "execute_result"
    }
   ],
   "source": [
    "prediction = m.make_future_dataframe(periods=10, freq='m')\n",
    "forecast = m.predict(prediction)\n",
    "forecast.head()"
   ]
  },
  {
   "cell_type": "code",
   "execution_count": 171,
   "metadata": {},
   "outputs": [
    {
     "data": {
      "image/png": "[encoded data removed]",
      "text/plain": [
       "<Figure size 720x432 with 1 Axes>"
      ]
     },
     "metadata": {},
     "output_type": "display_data"
    }
   ],
   "source": [
    "fig = m.plot(forecast)"
   ]
  }
 ],
 "metadata": {
  "interpreter": {
   "hash": "765ed32e1bc0496dc1898e3f161b9ae1640c279b8dfe862b186290ee6f358f65"
  },
  "kernelspec": {
   "display_name": "Python 3.8.8 ('base')",
   "language": "python",
   "name": "python3"
  },
  "language_info": {
   "codemirror_mode": {
    "name": "ipython",
    "version": 3
   },
   "file_extension": ".py",
   "mimetype": "text/x-python",
   "name": "python",
   "nbconvert_exporter": "python",
   "pygments_lexer": "ipython3",
   "version": "3.8.8"
  },
  "orig_nbformat": 4
 },
 "nbformat": 4,
 "nbformat_minor": 2
}
